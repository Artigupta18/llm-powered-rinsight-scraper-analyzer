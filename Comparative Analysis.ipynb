{
 "cells": [
  {
   "cell_type": "markdown",
   "metadata": {},
   "source": [
    "# PART 2: Comparative Analysis\n",
    "Utilize AI and ML models along with Prompt Engineering to analyze and compare the content.\n",
    "1. Preprocessing - Clean and normalize the text data \n",
    "2. Classify Articles by Industry - Use large language model such as facebook/bart-large-mnli to classify the articles into specific industries.\n",
    "3. Extract Themes, Topics, or Keywords - Use facebook/bart-large-mnli to identify the key themes, recurring topics, or significant keywords from the articles.\n",
    "4. Cluster Themes\n",
    "3. Vectorize the articles using embeddings.\n",
    "4. Apply clustering to group similar themes.\n",
    "5. Link each cluster back to its source articles to ensure traceability."
   ]
  },
  {
   "cell_type": "markdown",
   "metadata": {},
   "source": [
    "## Preprocessing\n",
    "1. Combine content and pdf_content for analysis.\n",
    "2. Preprocessed the text data to apply Remove special characters and digits, Tokenization, Remove stopwords, Lemmatization.\n",
    "3. REmove empty text after preprocessing."
   ]
  },
  {
   "cell_type": "code",
   "execution_count": 1,
   "metadata": {
    "_cell_guid": "b1076dfc-b9ad-4769-8c92-a6c4dae69d19",
    "_uuid": "8f2839f25d086af736a60e9eeb907d3b93b6e0e5",
    "execution": {
     "iopub.execute_input": "2025-04-20T09:54:33.461099Z",
     "iopub.status.busy": "2025-04-20T09:54:33.460887Z",
     "iopub.status.idle": "2025-04-20T09:54:50.709348Z",
     "shell.execute_reply": "2025-04-20T09:54:50.708745Z",
     "shell.execute_reply.started": "2025-04-20T09:54:33.461076Z"
    }
   },
   "outputs": [
    {
     "name": "stderr",
     "output_type": "stream",
     "text": [
      "[nltk_data] Downloading package punkt to /usr/share/nltk_data...\n",
      "[nltk_data]   Package punkt is already up-to-date!\n",
      "[nltk_data] Downloading package stopwords to /usr/share/nltk_data...\n",
      "[nltk_data]   Package stopwords is already up-to-date!\n",
      "[nltk_data] Downloading package wordnet to /usr/share/nltk_data...\n",
      "[nltk_data]   Package wordnet is already up-to-date!\n"
     ]
    },
    {
     "name": "stdout",
     "output_type": "stream",
     "text": [
      "Preprocessing complete. Data saved to preprocessed_kpmg_data.csv\n",
      "Total articles after preprocessing: 400\n"
     ]
    }
   ],
   "source": [
    "import pandas as pd\n",
    "import re\n",
    "from nltk.corpus import stopwords\n",
    "from nltk.tokenize import word_tokenize\n",
    "from nltk.stem import WordNetLemmatizer\n",
    "import nltk\n",
    "\n",
    "nltk.download('punkt')\n",
    "nltk.download('stopwords')\n",
    "nltk.download('wordnet')\n",
    "\n",
    "df = pd.read_csv('/kaggle/input/kpmg-insights-full/kpmg_insights_full.csv')\n",
    "\n",
    "df['full_text'] = df['content'].fillna('') + ' ' + df['pdf_content'].fillna('')\n",
    "\n",
    "def preprocess_text(text):\n",
    "    if not isinstance(text, str) or not text.strip():\n",
    "        return ''\n",
    "    text = text.lower()\n",
    "    text = re.sub(r'[^a-zA-Z\\s]', '', text)\n",
    "    tokens = word_tokenize(text)\n",
    "    stop_words = set(stopwords.words('english'))\n",
    "    tokens = [token for token in tokens if token not in stop_words]\n",
    "    lemmatizer = WordNetLemmatizer()\n",
    "    tokens = [lemmatizer.lemmatize(token) for token in tokens]\n",
    "    return ' '.join(tokens)\n",
    "\n",
    "df['cleaned_text'] = df['full_text'].apply(preprocess_text)\n",
    "\n",
    "df = df[df['cleaned_text'].str.strip() != '']\n",
    "\n",
    "df.to_csv('/kaggle/working/preprocessed_kpmg_data.csv', index=False)\n",
    "print(\"Preprocessing complete. Data saved to preprocessed_kpmg_data.csv\")\n",
    "print(f\"Total articles after preprocessing: {len(df)}\")"
   ]
  },
  {
   "cell_type": "markdown",
   "metadata": {},
   "source": [
    "## Industry Classification\n",
    "1. Initialize zero-shot classification pipeline include llm model such as facebook/bart-large-mnli.\n",
    "2. Define Candidate industries based on KPMG content."
   ]
  },
  {
   "cell_type": "code",
   "execution_count": 2,
   "metadata": {
    "execution": {
     "iopub.execute_input": "2025-04-20T09:56:05.378741Z",
     "iopub.status.busy": "2025-04-20T09:56:05.378139Z",
     "iopub.status.idle": "2025-04-20T09:59:04.125758Z",
     "shell.execute_reply": "2025-04-20T09:59:04.125111Z",
     "shell.execute_reply.started": "2025-04-20T09:56:05.378712Z"
    }
   },
   "outputs": [
    {
     "name": "stderr",
     "output_type": "stream",
     "text": [
      "2025-04-20 09:56:21.479219: E external/local_xla/xla/stream_executor/cuda/cuda_fft.cc:477] Unable to register cuFFT factory: Attempting to register factory for plugin cuFFT when one has already been registered\n",
      "WARNING: All log messages before absl::InitializeLog() is called are written to STDERR\n",
      "E0000 00:00:1745142981.938621      31 cuda_dnn.cc:8310] Unable to register cuDNN factory: Attempting to register factory for plugin cuDNN when one has already been registered\n",
      "E0000 00:00:1745142982.055018      31 cuda_blas.cc:1418] Unable to register cuBLAS factory: Attempting to register factory for plugin cuBLAS when one has already been registered\n"
     ]
    },
    {
     "data": {
      "application/vnd.jupyter.widget-view+json": {
       "model_id": "85e31fcca27c484e9cc04e28e5a5628a",
       "version_major": 2,
       "version_minor": 0
      },
      "text/plain": [
       "config.json:   0%|          | 0.00/1.15k [00:00<?, ?B/s]"
      ]
     },
     "metadata": {},
     "output_type": "display_data"
    },
    {
     "name": "stderr",
     "output_type": "stream",
     "text": [
      "Xet Storage is enabled for this repo, but the 'hf_xet' package is not installed. Falling back to regular HTTP download. For better performance, install the package with: `pip install huggingface_hub[hf_xet]` or `pip install hf_xet`\n"
     ]
    },
    {
     "data": {
      "application/vnd.jupyter.widget-view+json": {
       "model_id": "7693602e2b2c42b9be53fcf4ae2f0cb9",
       "version_major": 2,
       "version_minor": 0
      },
      "text/plain": [
       "model.safetensors:   0%|          | 0.00/1.63G [00:00<?, ?B/s]"
      ]
     },
     "metadata": {},
     "output_type": "display_data"
    },
    {
     "data": {
      "application/vnd.jupyter.widget-view+json": {
       "model_id": "edc13a04ddf54b058065cae77d662cfa",
       "version_major": 2,
       "version_minor": 0
      },
      "text/plain": [
       "tokenizer_config.json:   0%|          | 0.00/26.0 [00:00<?, ?B/s]"
      ]
     },
     "metadata": {},
     "output_type": "display_data"
    },
    {
     "data": {
      "application/vnd.jupyter.widget-view+json": {
       "model_id": "b9a4720f66684debbfaee37b0524e093",
       "version_major": 2,
       "version_minor": 0
      },
      "text/plain": [
       "vocab.json:   0%|          | 0.00/899k [00:00<?, ?B/s]"
      ]
     },
     "metadata": {},
     "output_type": "display_data"
    },
    {
     "data": {
      "application/vnd.jupyter.widget-view+json": {
       "model_id": "b3d81611b0f74ec1968d9c4cf4a00e20",
       "version_major": 2,
       "version_minor": 0
      },
      "text/plain": [
       "merges.txt:   0%|          | 0.00/456k [00:00<?, ?B/s]"
      ]
     },
     "metadata": {},
     "output_type": "display_data"
    },
    {
     "data": {
      "application/vnd.jupyter.widget-view+json": {
       "model_id": "cb64abfc06954c09a4a0da9092cb6656",
       "version_major": 2,
       "version_minor": 0
      },
      "text/plain": [
       "tokenizer.json:   0%|          | 0.00/1.36M [00:00<?, ?B/s]"
      ]
     },
     "metadata": {},
     "output_type": "display_data"
    },
    {
     "name": "stderr",
     "output_type": "stream",
     "text": [
      "Device set to use cuda:0\n",
      "You seem to be using the pipelines sequentially on GPU. In order to maximize efficiency please use a dataset\n"
     ]
    },
    {
     "name": "stdout",
     "output_type": "stream",
     "text": [
      "Industry classification complete. Data saved to classified_kpmg_data.csv\n",
      "\n",
      "Industry Distribution:\n",
      "industry\n",
      "Sustainability            107\n",
      "Technology                 89\n",
      "Financial Services         48\n",
      "Taxation                   42\n",
      "Regulatory Compliance      39\n",
      "Digital Transformation     26\n",
      "Venture Capital            18\n",
      "Family Business            15\n",
      "Immigration                12\n",
      "Trade and Tariffs           4\n",
      "Name: count, dtype: int64\n"
     ]
    }
   ],
   "source": [
    "import pandas as pd\n",
    "from transformers import pipeline\n",
    "import torch\n",
    "\n",
    "df = pd.read_csv('/kaggle/working/preprocessed_kpmg_data.csv')\n",
    "\n",
    "industry_classifier = pipeline(\n",
    "    'zero-shot-classification',\n",
    "    model='facebook/bart-large-mnli',\n",
    "    device=0 if torch.cuda.is_available() else -1\n",
    ")\n",
    "\n",
    "candidate_industries = [\n",
    "    'Taxation',\n",
    "    'Financial Services',\n",
    "    'Technology',\n",
    "    'Venture Capital',\n",
    "    'Sustainability',\n",
    "    'Immigration',\n",
    "    'Trade and Tariffs',\n",
    "    'Family Business',\n",
    "    'Regulatory Compliance',\n",
    "    'Digital Transformation'\n",
    "]\n",
    "\n",
    "def classify_industry(text):\n",
    "    if not isinstance(text, str) or not text.strip():\n",
    "        return 'Unknown'\n",
    "\n",
    "    result = industry_classifier(text[:512], candidate_labels=candidate_industries, multi_label=False)\n",
    "    return result['labels'][0]\n",
    "\n",
    "df['industry'] = df['cleaned_text'].apply(classify_industry)\n",
    "\n",
    "df.to_csv('/kaggle/working/classified_kpmg_data.csv', index=False)\n",
    "print(\"Industry classification complete. Data saved to classified_kpmg_data.csv\")\n",
    "print(\"\\nIndustry Distribution:\")\n",
    "print(df['industry'].value_counts())"
   ]
  },
  {
   "cell_type": "markdown",
   "metadata": {},
   "source": [
    "## Theme Extraction\n",
    "1. building a BERTopic pipeline.\n",
    "2. Transformer embeddings (via MiniLM) to represent text meaningfully.\n",
    "3. Clustering and topic extraction to identify distinct themes in the documents.\n",
    "4. Add topic assignments to dataframe."
   ]
  },
  {
   "cell_type": "code",
   "execution_count": 5,
   "metadata": {
    "execution": {
     "iopub.execute_input": "2025-04-20T10:03:03.524103Z",
     "iopub.status.busy": "2025-04-20T10:03:03.523834Z",
     "iopub.status.idle": "2025-04-20T10:03:51.424787Z",
     "shell.execute_reply": "2025-04-20T10:03:51.423902Z",
     "shell.execute_reply.started": "2025-04-20T10:03:03.524082Z"
    }
   },
   "outputs": [
    {
     "data": {
      "application/vnd.jupyter.widget-view+json": {
       "model_id": "20a1c0456e844edcaf8886069e048179",
       "version_major": 2,
       "version_minor": 0
      },
      "text/plain": [
       "modules.json:   0%|          | 0.00/349 [00:00<?, ?B/s]"
      ]
     },
     "metadata": {},
     "output_type": "display_data"
    },
    {
     "data": {
      "application/vnd.jupyter.widget-view+json": {
       "model_id": "a66f3e1919ab41bfa36baa8bf5a8bea7",
       "version_major": 2,
       "version_minor": 0
      },
      "text/plain": [
       "config_sentence_transformers.json:   0%|          | 0.00/116 [00:00<?, ?B/s]"
      ]
     },
     "metadata": {},
     "output_type": "display_data"
    },
    {
     "data": {
      "application/vnd.jupyter.widget-view+json": {
       "model_id": "9a6b970a92f54320ad77712e758e64be",
       "version_major": 2,
       "version_minor": 0
      },
      "text/plain": [
       "README.md:   0%|          | 0.00/10.5k [00:00<?, ?B/s]"
      ]
     },
     "metadata": {},
     "output_type": "display_data"
    },
    {
     "data": {
      "application/vnd.jupyter.widget-view+json": {
       "model_id": "67f713115c524f2995efc45b26595044",
       "version_major": 2,
       "version_minor": 0
      },
      "text/plain": [
       "sentence_bert_config.json:   0%|          | 0.00/53.0 [00:00<?, ?B/s]"
      ]
     },
     "metadata": {},
     "output_type": "display_data"
    },
    {
     "data": {
      "application/vnd.jupyter.widget-view+json": {
       "model_id": "241f9ca408ad4ebcbc9f154503471c87",
       "version_major": 2,
       "version_minor": 0
      },
      "text/plain": [
       "config.json:   0%|          | 0.00/612 [00:00<?, ?B/s]"
      ]
     },
     "metadata": {},
     "output_type": "display_data"
    },
    {
     "name": "stderr",
     "output_type": "stream",
     "text": [
      "Xet Storage is enabled for this repo, but the 'hf_xet' package is not installed. Falling back to regular HTTP download. For better performance, install the package with: `pip install huggingface_hub[hf_xet]` or `pip install hf_xet`\n"
     ]
    },
    {
     "data": {
      "application/vnd.jupyter.widget-view+json": {
       "model_id": "db2649f607674deda649b8489c940c28",
       "version_major": 2,
       "version_minor": 0
      },
      "text/plain": [
       "model.safetensors:   0%|          | 0.00/90.9M [00:00<?, ?B/s]"
      ]
     },
     "metadata": {},
     "output_type": "display_data"
    },
    {
     "data": {
      "application/vnd.jupyter.widget-view+json": {
       "model_id": "6b33ca32c7d943ffbdf16dee2f78ec5f",
       "version_major": 2,
       "version_minor": 0
      },
      "text/plain": [
       "tokenizer_config.json:   0%|          | 0.00/350 [00:00<?, ?B/s]"
      ]
     },
     "metadata": {},
     "output_type": "display_data"
    },
    {
     "data": {
      "application/vnd.jupyter.widget-view+json": {
       "model_id": "6b3fb2246c794797b27ca74e2c2992e6",
       "version_major": 2,
       "version_minor": 0
      },
      "text/plain": [
       "vocab.txt:   0%|          | 0.00/232k [00:00<?, ?B/s]"
      ]
     },
     "metadata": {},
     "output_type": "display_data"
    },
    {
     "data": {
      "application/vnd.jupyter.widget-view+json": {
       "model_id": "c71be058f91b4e6aa9ad437f84988af5",
       "version_major": 2,
       "version_minor": 0
      },
      "text/plain": [
       "tokenizer.json:   0%|          | 0.00/466k [00:00<?, ?B/s]"
      ]
     },
     "metadata": {},
     "output_type": "display_data"
    },
    {
     "data": {
      "application/vnd.jupyter.widget-view+json": {
       "model_id": "7594a70f114f4b62a0faf012967c21c9",
       "version_major": 2,
       "version_minor": 0
      },
      "text/plain": [
       "special_tokens_map.json:   0%|          | 0.00/112 [00:00<?, ?B/s]"
      ]
     },
     "metadata": {},
     "output_type": "display_data"
    },
    {
     "data": {
      "application/vnd.jupyter.widget-view+json": {
       "model_id": "826f0a3901c0461ab4a0e7e08edfcf8d",
       "version_major": 2,
       "version_minor": 0
      },
      "text/plain": [
       "config.json:   0%|          | 0.00/190 [00:00<?, ?B/s]"
      ]
     },
     "metadata": {},
     "output_type": "display_data"
    },
    {
     "name": "stderr",
     "output_type": "stream",
     "text": [
      "2025-04-20 10:03:36,160 - BERTopic - Embedding - Transforming documents to embeddings.\n"
     ]
    },
    {
     "data": {
      "application/vnd.jupyter.widget-view+json": {
       "model_id": "44221c6270544467abb559fc37154819",
       "version_major": 2,
       "version_minor": 0
      },
      "text/plain": [
       "Batches:   0%|          | 0/13 [00:00<?, ?it/s]"
      ]
     },
     "metadata": {},
     "output_type": "display_data"
    },
    {
     "name": "stderr",
     "output_type": "stream",
     "text": [
      "2025-04-20 10:03:41,160 - BERTopic - Embedding - Completed ✓\n",
      "2025-04-20 10:03:41,160 - BERTopic - Dimensionality - Fitting the dimensionality reduction algorithm\n",
      "2025-04-20 10:03:49,159 - BERTopic - Dimensionality - Completed ✓\n",
      "2025-04-20 10:03:49,161 - BERTopic - Cluster - Start clustering the reduced embeddings\n",
      "2025-04-20 10:03:49,181 - BERTopic - Cluster - Completed ✓\n",
      "2025-04-20 10:03:49,182 - BERTopic - Representation - Extracting topics using c-TF-IDF for topic reduction.\n",
      "2025-04-20 10:03:49,679 - BERTopic - Representation - Completed ✓\n",
      "2025-04-20 10:03:49,680 - BERTopic - Topic reduction - Reducing number of topics\n",
      "2025-04-20 10:03:49,691 - BERTopic - Representation - Fine-tuning topics using representation models.\n",
      "2025-04-20 10:03:50,124 - BERTopic - Representation - Completed ✓\n",
      "2025-04-20 10:03:50,125 - BERTopic - Topic reduction - Reduced number of topics from 16 to 16\n"
     ]
    },
    {
     "name": "stdout",
     "output_type": "stream",
     "text": [
      "Theme extraction complete. Data saved to topics_kpmg_data.csv\n",
      "\n",
      "Top 5 Topics:\n",
      "   Topic  Count                                 Name\n",
      "0     -1     30         -1_firm_kpmg_regulatory_risk\n",
      "1      0    130               0_ai_kpmg_service_data\n",
      "2      1     66  1_company_esr_reporting_information\n",
      "3      2     26            2_deal_fintech_vc_venture\n",
      "4      3     21              3_member_kpmg_firm_visa\n"
     ]
    }
   ],
   "source": [
    "import pandas as pd\n",
    "from sentence_transformers import SentenceTransformer\n",
    "from bertopic import BERTopic\n",
    "\n",
    "df = pd.read_csv('/kaggle/working/classified_kpmg_data.csv')\n",
    "\n",
    "embedding_model = SentenceTransformer('all-MiniLM-L6-v2')\n",
    "\n",
    "topic_model = BERTopic(\n",
    "    embedding_model=embedding_model,\n",
    "    min_topic_size=5,\n",
    "    nr_topics='auto',\n",
    "    verbose=True\n",
    ")\n",
    "\n",
    "topics, _ = topic_model.fit_transform(df['cleaned_text'].tolist())\n",
    "\n",
    "df['topic'] = topics\n",
    "\n",
    "topic_info = topic_model.get_topic_info()\n",
    "\n",
    "def get_topic_keywords(topic_id):\n",
    "    if topic_id == -1:\n",
    "        return 'Outlier'\n",
    "    topic_words = topic_model.get_topic(topic_id)\n",
    "    return ', '.join([word for word, _ in topic_words[:5]])\n",
    "\n",
    "df['topic_keywords'] = df['topic'].apply(get_topic_keywords)\n",
    "\n",
    "df.to_csv('/kaggle/working/topics_kpmg_data.csv', index=False)\n",
    "print(\"Theme extraction complete. Data saved to topics_kpmg_data.csv\")\n",
    "print(\"\\nTop 5 Topics:\")\n",
    "print(topic_info[['Topic', 'Count', 'Name']].head(5))"
   ]
  },
  {
   "cell_type": "markdown",
   "metadata": {},
   "source": [
    "## Clustering Themes\n",
    "1. Generate embeddings using  MiniLM.\n",
    "2. Apply HDBSCAN for clustering.\n",
    "3. Add unique artifact IDs for traceability"
   ]
  },
  {
   "cell_type": "code",
   "execution_count": 6,
   "metadata": {
    "execution": {
     "iopub.execute_input": "2025-04-20T10:07:12.439354Z",
     "iopub.status.busy": "2025-04-20T10:07:12.438526Z",
     "iopub.status.idle": "2025-04-20T10:07:19.382482Z",
     "shell.execute_reply": "2025-04-20T10:07:19.381807Z",
     "shell.execute_reply.started": "2025-04-20T10:07:12.439324Z"
    }
   },
   "outputs": [
    {
     "data": {
      "application/vnd.jupyter.widget-view+json": {
       "model_id": "78b89812aa6e4f7780c6508adab548a9",
       "version_major": 2,
       "version_minor": 0
      },
      "text/plain": [
       "Batches:   0%|          | 0/13 [00:00<?, ?it/s]"
      ]
     },
     "metadata": {},
     "output_type": "display_data"
    },
    {
     "name": "stdout",
     "output_type": "stream",
     "text": [
      "Theme clustering complete. Data saved to clustered_kpmg_data.csv\n",
      "\n",
      "Cluster Distribution:\n",
      "cluster\n",
      " 0    251\n",
      "-1    126\n",
      " 1     23\n",
      "Name: count, dtype: int64\n"
     ]
    }
   ],
   "source": [
    "import pandas as pd\n",
    "from sentence_transformers import SentenceTransformer\n",
    "import hdbscan\n",
    "from uuid import uuid4\n",
    "\n",
    "df = pd.read_csv('/kaggle/working/topics_kpmg_data.csv')\n",
    "\n",
    "embedding_model = SentenceTransformer('all-MiniLM-L6-v2')\n",
    "\n",
    "embeddings = embedding_model.encode(df['cleaned_text'].tolist(), show_progress_bar=True)\n",
    "\n",
    "clusterer = hdbscan.HDBSCAN(\n",
    "    min_cluster_size=5,\n",
    "    metric='euclidean',\n",
    "    cluster_selection_method='eom'\n",
    ")\n",
    "cluster_labels = clusterer.fit_predict(embeddings)\n",
    "\n",
    "df['cluster'] = cluster_labels\n",
    "\n",
    "df['artifact_id'] = [str(uuid4()) for _ in range(len(df))]\n",
    "\n",
    "df.to_csv('/kaggle/working/clustered_kpmg_data.csv', index=False)\n",
    "print(\"Theme clustering complete. Data saved to clustered_kpmg_data.csv\")\n",
    "print(\"\\nCluster Distribution:\")\n",
    "print(df['cluster'].value_counts())"
   ]
  },
  {
   "cell_type": "markdown",
   "metadata": {},
   "source": [
    "## Save Output and Visualizations\n",
    "1. Visualization 1: Industry Distribution\n",
    "2. Visualization 2: Topic Distribution.\n",
    "3. Visualization 3: Cluster Distribution"
   ]
  },
  {
   "cell_type": "code",
   "execution_count": 8,
   "metadata": {
    "execution": {
     "iopub.execute_input": "2025-04-20T10:20:04.910353Z",
     "iopub.status.busy": "2025-04-20T10:20:04.909593Z",
     "iopub.status.idle": "2025-04-20T10:20:06.233408Z",
     "shell.execute_reply": "2025-04-20T10:20:06.232610Z",
     "shell.execute_reply.started": "2025-04-20T10:20:04.910323Z"
    }
   },
   "outputs": [
    {
     "data": {
      "image/png": "[encoded data removed]",
      "text/plain": [
       "<Figure size 1000x600 with 1 Axes>"
      ]
     },
     "metadata": {},
     "output_type": "display_data"
    },
    {
     "data": {
      "image/png": "[encoded data removed]",
      "text/plain": [
       "<Figure size 1000x600 with 1 Axes>"
      ]
     },
     "metadata": {},
     "output_type": "display_data"
    },
    {
     "data": {
      "image/png": "[encoded data removed]",
      "text/plain": [
       "<Figure size 1000x600 with 1 Axes>"
      ]
     },
     "metadata": {},
     "output_type": "display_data"
    },
    {
     "name": "stdout",
     "output_type": "stream",
     "text": [
      "Final Output and Visualizations Complete:\n",
      "Total Articles Processed: 400\n",
      "\n",
      "Industry Distribution:\n",
      "industry\n",
      "Sustainability            107\n",
      "Technology                 89\n",
      "Financial Services         48\n",
      "Taxation                   42\n",
      "Regulatory Compliance      39\n",
      "Digital Transformation     26\n",
      "Venture Capital            18\n",
      "Family Business            15\n",
      "Immigration                12\n",
      "Trade and Tariffs           4\n",
      "Name: count, dtype: int64\n",
      "\n",
      "Top 10 Topic Keywords:\n",
      "topic_keywords\n",
      "ai, kpmg, service, data, technology                     130\n",
      "company, esr, reporting, information, sustainability     66\n",
      "Outlier                                                  30\n",
      "deal, fintech, vc, venture, global                       26\n",
      "member, kpmg, firm, visa, limited                        21\n",
      "tax, state, cjeu, partner, court                         18\n",
      "bank, ecb, risk, supervisory, stress                     18\n",
      "new, fca, tab, open, firm                                16\n",
      "tax, vat, pillar, indirect, kpmg                         14\n",
      "firm, fca, duty, consumer, outcome                       13\n",
      "Name: count, dtype: int64\n",
      "\n",
      "Cluster Distribution:\n",
      "cluster\n",
      " 0    251\n",
      "-1    126\n",
      " 1     23\n",
      "Name: count, dtype: int64\n"
     ]
    }
   ],
   "source": [
    "import pandas as pd\n",
    "import matplotlib.pyplot as plt\n",
    "import seaborn as sns\n",
    "\n",
    "df = pd.read_csv('/kaggle/working/clustered_kpmg_data.csv')\n",
    "\n",
    "output_df = df[[\n",
    "    'artifact_id', 'title', 'url', 'industry', 'topic', 'topic_keywords', 'cluster', 'cleaned_text'\n",
    "]]\n",
    "\n",
    "output_df.to_csv('/kaggle/working/processed_kpmg_data.csv', index=False)\n",
    "\n",
    "# Visualization 1: Industry Distribution\n",
    "plt.figure(figsize=(10, 6))\n",
    "sns.countplot(y='industry', data=df, order=df['industry'].value_counts().index)\n",
    "plt.title('Distribution of Articles by Industry')\n",
    "plt.xlabel('Count')\n",
    "plt.ylabel('Industry')\n",
    "plt.tight_layout()\n",
    "plt.savefig('/kaggle/working/industry_distribution.png')\n",
    "plt.show()\n",
    "plt.close()\n",
    "\n",
    "# Visualization 2: Topic Distribution\n",
    "plt.figure(figsize=(10, 6))\n",
    "sns.countplot(y='topic_keywords', data=df, order=df['topic_keywords'].value_counts().index[:10])\n",
    "plt.title('Top 10 Topics/Themes')\n",
    "plt.xlabel('Count')\n",
    "plt.ylabel('Topic Keywords')\n",
    "plt.tight_layout()\n",
    "plt.savefig('/kaggle/working/topic_distribution.png')\n",
    "plt.show()\n",
    "plt.close()\n",
    "\n",
    "# Visualization 3: Cluster Distribution\n",
    "plt.figure(figsize=(10, 6))\n",
    "sns.countplot(x='cluster', data=df)\n",
    "plt.title('Distribution of Articles by Cluster')\n",
    "plt.xlabel('Cluster ID')\n",
    "plt.ylabel('Count')\n",
    "plt.tight_layout()\n",
    "plt.savefig('/kaggle/working/cluster_distribution.png')\n",
    "plt.show()\n",
    "plt.close()\n",
    "\n",
    "print(\"Final Output and Visualizations Complete:\")\n",
    "print(f\"Total Articles Processed: {len(df)}\")\n",
    "print(\"\\nIndustry Distribution:\")\n",
    "print(df['industry'].value_counts())\n",
    "print(\"\\nTop 10 Topic Keywords:\")\n",
    "print(df['topic_keywords'].value_counts().head(10))\n",
    "print(\"\\nCluster Distribution:\")\n",
    "print(df['cluster'].value_counts())"
   ]
  }
 ],
 "metadata": {
  "kaggle": {
   "accelerator": "nvidiaTeslaT4",
   "dataSources": [
    {
     "datasetId": 7197999,
     "sourceId": 11484428,
     "sourceType": "datasetVersion"
    }
   ],
   "dockerImageVersionId": 31011,
   "isGpuEnabled": true,
   "isInternetEnabled": true,
   "language": "python",
   "sourceType": "notebook"
  },
  "kernelspec": {
   "display_name": "Python 3 (ipykernel)",
   "language": "python",
   "name": "python3"
  },
  "language_info": {
   "codemirror_mode": {
    "name": "ipython",
    "version": 3
   },
   "file_extension": ".py",
   "mimetype": "text/x-python",
   "name": "python",
   "nbconvert_exporter": "python",
   "pygments_lexer": "ipython3",
   "version": "3.12.2"
  }
 },
 "nbformat": 4,
 "nbformat_minor": 4
}
